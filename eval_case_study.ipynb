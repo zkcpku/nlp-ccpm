{
 "cells": [
  {
   "cell_type": "code",
   "execution_count": 1,
   "id": "19e002c7",
   "metadata": {},
   "outputs": [],
   "source": [
    "import json"
   ]
  },
  {
   "cell_type": "code",
   "execution_count": 10,
   "id": "f76c6575",
   "metadata": {},
   "outputs": [
    {
     "data": {
      "text/plain": [
       "0.8268382352941176"
      ]
     },
     "execution_count": 10,
     "metadata": {},
     "output_type": "execute_result"
    }
   ],
   "source": [
    "with open('predict/final/eval/binary_predict.jsonl','r') as f:\n",
    "    binary_predict = f.readlines()\n",
    "    binary_predict = [json.loads(e) for e in binary_predict]\n",
    "sum([e['true'] for e in binary_predict]) / len(binary_predict)"
   ]
  },
  {
   "cell_type": "code",
   "execution_count": 11,
   "id": "641f3afd",
   "metadata": {},
   "outputs": [
    {
     "data": {
      "text/plain": [
       "0.8319852941176471"
      ]
     },
     "execution_count": 11,
     "metadata": {},
     "output_type": "execute_result"
    }
   ],
   "source": [
    "with open('predict/final/eval/ner_predict.jsonl','r') as f:\n",
    "    ner_predict = f.readlines()\n",
    "    ner_predict = [json.loads(e) for e in ner_predict]\n",
    "sum([e['true'] for e in ner_predict]) / len(ner_predict)"
   ]
  },
  {
   "cell_type": "code",
   "execution_count": 12,
   "id": "f1c945aa",
   "metadata": {},
   "outputs": [
    {
     "data": {
      "text/plain": [
       "0.8768382352941176"
      ]
     },
     "execution_count": 12,
     "metadata": {},
     "output_type": "execute_result"
    }
   ],
   "source": [
    "with open('predict/final/eval/co_num_predict.jsonl','r') as f:\n",
    "    co_num_predict = f.readlines()\n",
    "    co_num_predict = [json.loads(e) for e in co_num_predict]\n",
    "sum([e['true'] for e in co_num_predict]) / len(co_num_predict)"
   ]
  },
  {
   "cell_type": "code",
   "execution_count": 13,
   "id": "53996ab0",
   "metadata": {},
   "outputs": [
    {
     "data": {
      "text/plain": [
       "0.8830882352941176"
      ]
     },
     "execution_count": 13,
     "metadata": {},
     "output_type": "execute_result"
    }
   ],
   "source": [
    "with open('predict/final/eval/seq_predict.jsonl','r') as f:\n",
    "    seq_predict = f.readlines()\n",
    "    seq_predict = [json.loads(e) for e in seq_predict]\n",
    "sum([e['true'] for e in seq_predict]) / len(seq_predict)"
   ]
  },
  {
   "cell_type": "code",
   "execution_count": 14,
   "id": "9d691661",
   "metadata": {},
   "outputs": [
    {
     "data": {
      "text/plain": [
       "0.925"
      ]
     },
     "execution_count": 14,
     "metadata": {},
     "output_type": "execute_result"
    }
   ],
   "source": [
    "with open('predict/final/eval/ensemble_predict.jsonl','r') as f:\n",
    "    ensemble_predict = f.readlines()\n",
    "    ensemble_predict = [json.loads(e) for e in ensemble_predict]\n",
    "sum([e['true'] for e in ensemble_predict]) / len(ensemble_predict)"
   ]
  },
  {
   "cell_type": "code",
   "execution_count": 16,
   "id": "1eb524ae",
   "metadata": {},
   "outputs": [
    {
     "data": {
      "text/plain": [
       "2720"
      ]
     },
     "execution_count": 16,
     "metadata": {},
     "output_type": "execute_result"
    }
   ],
   "source": [
    "len(ensemble_predict)"
   ]
  },
  {
   "cell_type": "code",
   "execution_count": 36,
   "id": "20a3f84e",
   "metadata": {
    "scrolled": true
   },
   "outputs": [
    {
     "data": {
      "text/plain": [
       "[788, 993, 1155, 1948]"
      ]
     },
     "execution_count": 36,
     "metadata": {},
     "output_type": "execute_result"
    }
   ],
   "source": [
    "[i for i in range(len(ensemble_predict)) if ensemble_predict[i]['true'] == True and seq_predict[i]['true'] == False and co_num_predict[i]['true'] == False and binary_predict[i]['true'] == False]"
   ]
  },
  {
   "cell_type": "code",
   "execution_count": 17,
   "id": "91d73cb6",
   "metadata": {},
   "outputs": [
    {
     "data": {
      "text/plain": [
       "0.003676470588235294"
      ]
     },
     "execution_count": 17,
     "metadata": {},
     "output_type": "execute_result"
    }
   ],
   "source": [
    "10 / 2720"
   ]
  },
  {
   "cell_type": "code",
   "execution_count": 41,
   "id": "aabbb53f",
   "metadata": {},
   "outputs": [
    {
     "data": {
      "text/plain": [
       "{'translation': '你看，天上的鸟儿都自由自在地飞翔。',\n",
       " 'choices': ['翩翻仰飞鸟', '仰视飞鸟落', '下视飞鸟背', '仰视百鸟飞'],\n",
       " 'answer': 3,\n",
       " 'scores': [0.19398722670869567,\n",
       "  0.20510580491717548,\n",
       "  0.32825672489071406,\n",
       "  0.27265024348341493],\n",
       " 'predict': 2,\n",
       " 'true': False}"
      ]
     },
     "execution_count": 41,
     "metadata": {},
     "output_type": "execute_result"
    }
   ],
   "source": [
    "seq_predict[441]"
   ]
  },
  {
   "cell_type": "code",
   "execution_count": 34,
   "id": "0e3ab239",
   "metadata": {},
   "outputs": [
    {
     "data": {
      "text/plain": [
       "{'translation': '你看，天上的鸟儿都自由自在地飞翔。',\n",
       " 'choices': ['翩翻仰飞鸟', '仰视飞鸟落', '下视飞鸟背', '仰视百鸟飞'],\n",
       " 'answer': 3,\n",
       " 'model_output': {'下视': [0.38646732419528024, 0.6135326758047198],\n",
       "  '翩翻': [0.47833101535795153, 0.5216689846420485],\n",
       "  '仰飞鸟': [0.7036007677502361, 0.29639923224976383],\n",
       "  '仰视': [0.3867027673488945, 0.6132972326511055],\n",
       "  '百鸟飞': [0.7206128541035892, 0.2793871458964107],\n",
       "  '飞鸟落': [0.9095912876244866, 0.09040871237551344],\n",
       "  '飞鸟背': [0.8970898359274445, 0.10291016407255546]},\n",
       " 'scores': [0.2582129014445311,\n",
       "  0.2303090660156364,\n",
       "  0.23326124928599934,\n",
       "  0.2782167832538333],\n",
       " 'predict': 3,\n",
       " 'true': True}"
      ]
     },
     "execution_count": 34,
     "metadata": {},
     "output_type": "execute_result"
    }
   ],
   "source": [
    "binary_predict[441]"
   ]
  },
  {
   "cell_type": "code",
   "execution_count": null,
   "id": "9f9bcc97",
   "metadata": {},
   "outputs": [],
   "source": [
    "[[0.2151,\n",
    "   0.2222,\n",
    "   0.019755132496356964,\n",
    "   0.01903093233704567,\n",
    "   0.02172483503818512],\n",
    "  [0.8165768384933472,\n",
    "   0.7930786609649658,\n",
    "   0.09453681111335754,\n",
    "   0.1201082095503807,\n",
    "   0.13352201879024506],\n",
    "  [0.05685175582766533,\n",
    "   0.0479537732899189,\n",
    "   0.013241013512015343,\n",
    "   0.01512275729328394,\n",
    "   0.016727933660149574],\n",
    "  [0.9616498351097107,\n",
    "   0.9586278200149536,\n",
    "   0.9806236624717712,\n",
    "   0.9780905246734619,\n",
    "   0.9768726825714111]]"
   ]
  },
  {
   "cell_type": "code",
   "execution_count": 47,
   "id": "3b094c23",
   "metadata": {},
   "outputs": [
    {
     "data": {
      "text/plain": [
       "{'translation': '你看，天上的鸟儿都自由自在地飞翔。',\n",
       " 'choices': ['翩翻仰飞鸟', '仰视飞鸟落', '下视飞鸟背', '仰视百鸟飞'],\n",
       " 'answer': 3,\n",
       " 'model_output': [[0.21516215801239014,\n",
       "   0.22229371964931488,\n",
       "   0.019755132496356964,\n",
       "   0.01903093233704567,\n",
       "   0.02172483503818512],\n",
       "  [0.8165768384933472,\n",
       "   0.7930786609649658,\n",
       "   0.09453681111335754,\n",
       "   0.1201082095503807,\n",
       "   0.13352201879024506],\n",
       "  [0.05685175582766533,\n",
       "   0.0479537732899189,\n",
       "   0.013241013512015343,\n",
       "   0.01512275729328394,\n",
       "   0.016727933660149574],\n",
       "  [0.9616498351097107,\n",
       "   0.9586278200149536,\n",
       "   0.9806236624717712,\n",
       "   0.9780905246734619,\n",
       "   0.9768726825714111]],\n",
       " 'scores': [0.18611535340172894,\n",
       "  0.18629810549519557,\n",
       "  0.18611528239507272,\n",
       "  0.44147125870800297],\n",
       " 'predict': 3,\n",
       " 'true': True}"
      ]
     },
     "execution_count": 47,
     "metadata": {},
     "output_type": "execute_result"
    }
   ],
   "source": [
    "ner_predict[441]"
   ]
  },
  {
   "cell_type": "code",
   "execution_count": 46,
   "id": "0f416bb5",
   "metadata": {},
   "outputs": [
    {
     "name": "stdout",
     "output_type": "stream",
     "text": [
      "[[0.2152 0.2223 0.0198 0.019  0.0217]\n",
      " [0.8166 0.7931 0.0945 0.1201 0.1335]\n",
      " [0.0569 0.048  0.0132 0.0151 0.0167]\n",
      " [0.9616 0.9586 0.9806 0.9781 0.9769]]\n"
     ]
    }
   ],
   "source": [
    "import numpy as np\n",
    "t = np.array(ner_predict[441]['model_output'])\n",
    "np.set_printoptions(precision=4)\n",
    "print(t)"
   ]
  },
  {
   "cell_type": "code",
   "execution_count": 48,
   "id": "67786443",
   "metadata": {},
   "outputs": [
    {
     "data": {
      "text/plain": [
       "{'translation': '我寄上一封简短的书信，信中每一行字上都浸透了我的眼泪。',\n",
       " 'choices': ['一行书寄千行泪', '一封书堕数行泪', '一行书信千行泪', '寄得一行书信无'],\n",
       " 'answer': 2,\n",
       " 'scores': [0.1756034668538244,\n",
       "  0.4720922529034535,\n",
       "  0.17691259067288037,\n",
       "  0.17539168956984175],\n",
       " 'predict': 1,\n",
       " 'true': False}"
      ]
     },
     "execution_count": 48,
     "metadata": {},
     "output_type": "execute_result"
    }
   ],
   "source": [
    "seq_predict[993]"
   ]
  },
  {
   "cell_type": "code",
   "execution_count": 49,
   "id": "516da241",
   "metadata": {},
   "outputs": [
    {
     "name": "stdout",
     "output_type": "stream",
     "text": [
      "一行书寄千行泪 \t 0.1756034668538244\n",
      "一封书堕数行泪 \t 0.4720922529034535\n",
      "一行书信千行泪 \t 0.17691259067288037\n",
      "寄得一行书信无 \t 0.17539168956984175\n"
     ]
    }
   ],
   "source": [
    "for c_id in range(4):\n",
    "    print(seq_predict[993]['choices'][c_id],'\\t',seq_predict[993]['scores'][c_id])"
   ]
  },
  {
   "cell_type": "code",
   "execution_count": 39,
   "id": "c7ecb94c",
   "metadata": {},
   "outputs": [
    {
     "data": {
      "text/plain": [
       "{'translation': '我寄上一封简短的书信，信中每一行字上都浸透了我的眼泪。',\n",
       " 'choices': ['一行书寄千行泪', '一封书堕数行泪', '一行书信千行泪', '寄得一行书信无'],\n",
       " 'answer': 2,\n",
       " 'model_output': {'数行泪': [0.1517243025333168, 0.8482756974666832],\n",
       "  '书信': [0.11687159285511464, 0.8831284071448854],\n",
       "  '书堕': [0.6825764399623817, 0.3174235600376183],\n",
       "  '一封': [0.03274459146331886, 0.9672554085366811],\n",
       "  '千行泪': [0.42108949164512877, 0.5789105083548712],\n",
       "  '一行': [0.4599225263099961, 0.5400774736900039],\n",
       "  '寄得': [0.22526594478466486, 0.7747340552153351],\n",
       "  '书信无': [0.7750014838185085, 0.22499851618149155],\n",
       "  '书寄': [0.23256756637210407, 0.7674324336278959]},\n",
       " 'scores': [0.19560745114009995,\n",
       "  0.2502959708454361,\n",
       "  0.21959958594899853,\n",
       "  0.33449699206546546],\n",
       " 'predict': 3,\n",
       " 'true': False}"
      ]
     },
     "execution_count": 39,
     "metadata": {},
     "output_type": "execute_result"
    }
   ],
   "source": [
    "binary_predict[993]"
   ]
  },
  {
   "cell_type": "code",
   "execution_count": 56,
   "id": "6dac2183",
   "metadata": {
    "scrolled": true
   },
   "outputs": [
    {
     "name": "stdout",
     "output_type": "stream",
     "text": [
      "数行泪 \t 0.8483\n",
      "书信 \t 0.8831\n",
      "书堕 \t 0.3174\n",
      "一封 \t 0.9673\n",
      "千行泪 \t 0.5789\n",
      "一行 \t 0.5401\n",
      "寄得 \t 0.7747\n",
      "书信无 \t 0.2250\n",
      "书寄 \t 0.7674\n"
     ]
    }
   ],
   "source": [
    "for k in binary_predict[993]['model_output']:\n",
    "    print(k,'\\t','{:.4f}'.format(binary_predict[993]['model_output'][k][-1]))"
   ]
  },
  {
   "cell_type": "code",
   "execution_count": 40,
   "id": "f042ad15",
   "metadata": {
    "scrolled": true
   },
   "outputs": [
    {
     "data": {
      "text/plain": [
       "{'translation': '我寄上一封简短的书信，信中每一行字上都浸透了我的眼泪。',\n",
       " 'choices': ['一行书寄千行泪', '一封书堕数行泪', '一行书信千行泪', '寄得一行书信无'],\n",
       " 'answer': 2,\n",
       " 'model_output': [[0.7826950550079346,\n",
       "   0.8017566800117493,\n",
       "   0.6719909310340881,\n",
       "   0.6844205260276794,\n",
       "   0.828391969203949,\n",
       "   0.7786412835121155,\n",
       "   0.7616693377494812],\n",
       "  [0.9829880595207214,\n",
       "   0.9788326025009155,\n",
       "   0.5002279877662659,\n",
       "   0.5091439485549927,\n",
       "   0.9902712106704712,\n",
       "   0.9903371334075928,\n",
       "   0.990261971950531],\n",
       "  [0.9637319445610046,\n",
       "   0.9620219469070435,\n",
       "   0.9744759798049927,\n",
       "   0.9758538007736206,\n",
       "   0.9438536763191223,\n",
       "   0.9292453527450562,\n",
       "   0.9207620024681091],\n",
       "  [0.025280144065618515,\n",
       "   0.0369177982211113,\n",
       "   0.2019740790128708,\n",
       "   0.24003866314888,\n",
       "   0.003275533439591527,\n",
       "   0.0014294778229668736,\n",
       "   0.004902994725853205]],\n",
       " 'scores': [0.2110863839806761,\n",
       "  0.23239974491351614,\n",
       "  0.37333331775312406,\n",
       "  0.1831805533526836],\n",
       " 'predict': 2,\n",
       " 'true': True}"
      ]
     },
     "execution_count": 40,
     "metadata": {},
     "output_type": "execute_result"
    }
   ],
   "source": [
    "ner_predict[993]"
   ]
  },
  {
   "cell_type": "code",
   "execution_count": 57,
   "id": "c8074b6c",
   "metadata": {},
   "outputs": [
    {
     "name": "stdout",
     "output_type": "stream",
     "text": [
      "[[0.7827 0.8018 0.672  0.6844 0.8284 0.7786 0.7617]\n",
      " [0.983  0.9788 0.5002 0.5091 0.9903 0.9903 0.9903]\n",
      " [0.9637 0.962  0.9745 0.9759 0.9439 0.9292 0.9208]\n",
      " [0.0253 0.0369 0.202  0.24   0.0033 0.0014 0.0049]]\n"
     ]
    }
   ],
   "source": [
    "import numpy as np\n",
    "t = np.array(ner_predict[993]['model_output'])\n",
    "np.set_printoptions(precision=4)\n",
    "print(t)"
   ]
  },
  {
   "cell_type": "code",
   "execution_count": 59,
   "id": "e63b6599",
   "metadata": {},
   "outputs": [
    {
     "name": "stdout",
     "output_type": "stream",
     "text": [
      "一行书寄千行泪\n",
      "一封书堕数行泪\n",
      "一行书信千行泪\n",
      "寄得一行书信无\n"
     ]
    }
   ],
   "source": [
    "for i in ner_predict[993]['choices']:\n",
    "    print(i)"
   ]
  },
  {
   "cell_type": "code",
   "execution_count": null,
   "id": "9f8b70f0",
   "metadata": {},
   "outputs": [],
   "source": []
  }
 ],
 "metadata": {
  "kernelspec": {
   "display_name": "Python 3 (ipykernel)",
   "language": "python",
   "name": "python3"
  },
  "language_info": {
   "codemirror_mode": {
    "name": "ipython",
    "version": 3
   },
   "file_extension": ".py",
   "mimetype": "text/x-python",
   "name": "python",
   "nbconvert_exporter": "python",
   "pygments_lexer": "ipython3",
   "version": "3.7.11"
  }
 },
 "nbformat": 4,
 "nbformat_minor": 5
}
