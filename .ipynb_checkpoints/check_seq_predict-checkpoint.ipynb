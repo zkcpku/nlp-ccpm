{
 "cells": [
  {
   "cell_type": "code",
   "execution_count": 1,
   "id": "74b0591e",
   "metadata": {},
   "outputs": [],
   "source": [
    "import torch\n",
    "from tqdm import tqdm\n",
    "from transformers import (\n",
    "    AutoConfig,\n",
    "    AutoModelForMultipleChoice,\n",
    "    AutoTokenizer,\n",
    "    HfArgumentParser,\n",
    "    Trainer,\n",
    "    TrainingArguments,\n",
    "    default_data_collator,\n",
    "    set_seed,\n",
    ")\n",
    "import numpy as np\n",
    "# np.argmax([1,2,3,4])"
   ]
  },
  {
   "cell_type": "code",
   "execution_count": 2,
   "id": "d89160b0",
   "metadata": {},
   "outputs": [
    {
     "data": {
      "text/plain": [
       "[0.2689414213699951, 0.7310585786300049]"
      ]
     },
     "execution_count": 2,
     "metadata": {},
     "output_type": "execute_result"
    }
   ],
   "source": [
    "def softmax(x, axis=None):\n",
    "    x = np.array(x)\n",
    "    x = x - x.max(axis=axis, keepdims=True)\n",
    "    y = np.exp(x)\n",
    "    rst = y / y.sum(axis=axis, keepdims=True)\n",
    "    return rst.tolist()\n",
    "softmax([1,2])"
   ]
  },
  {
   "cell_type": "code",
   "execution_count": 3,
   "id": "eec0b4d8",
   "metadata": {},
   "outputs": [],
   "source": [
    "tokenizer = AutoTokenizer.from_pretrained('ethanyt/guwenbert-base')"
   ]
  },
  {
   "cell_type": "code",
   "execution_count": 4,
   "id": "56c61069",
   "metadata": {},
   "outputs": [],
   "source": [
    "import json\n",
    "with open('data/valid.jsonl','r') as f:\n",
    "    valid_json = f.readlines()\n",
    "    valid_json = [json.loads(e) for e in valid_json]"
   ]
  },
  {
   "cell_type": "code",
   "execution_count": 5,
   "id": "ac380882",
   "metadata": {},
   "outputs": [],
   "source": [
    "import pickle\n",
    "with open('/home/zhangkechi/workspace/nlp_course/baseline/CCPM-baseline-main/predict/results_guwen/test_result.pkl','rb') as f:\n",
    "    rst = pickle.load(f)"
   ]
  },
  {
   "cell_type": "code",
   "execution_count": null,
   "id": "f0f155ca",
   "metadata": {},
   "outputs": [],
   "source": []
  },
  {
   "cell_type": "code",
   "execution_count": 26,
   "id": "d849f517",
   "metadata": {},
   "outputs": [
    {
     "data": {
      "text/plain": [
       "[-0.09412198513746262, 8.516458511352539, 9.14784049987793, 12.8546142578125]"
      ]
     },
     "execution_count": 26,
     "metadata": {},
     "output_type": "execute_result"
    }
   ],
   "source": [
    "rst['test_result'].predictions[0].tolist()"
   ]
  },
  {
   "cell_type": "code",
   "execution_count": 19,
   "id": "c4783a58",
   "metadata": {},
   "outputs": [
    {
     "data": {
      "text/plain": [
       "(Dataset({\n",
       "     features: ['answer', 'attention_mask', 'choices', 'input_ids', 'labels', 'token_type_ids', 'translation'],\n",
       "     num_rows: 2720\n",
       " }),\n",
       " dict_keys(['answer', 'attention_mask', 'choices', 'input_ids', 'labels', 'token_type_ids', 'translation']))"
      ]
     },
     "execution_count": 19,
     "metadata": {},
     "output_type": "execute_result"
    }
   ],
   "source": [
    "rst['test_dataset'],rst['test_dataset'][0].keys()"
   ]
  },
  {
   "cell_type": "code",
   "execution_count": 23,
   "id": "bff4d693",
   "metadata": {},
   "outputs": [
    {
     "data": {
      "text/plain": [
       "'[CLS] 昏 暗 的 灯 熄 灭 了 又 被 重 新 点 亮 。 [SEP] 灭 又 明 [SEP]'"
      ]
     },
     "execution_count": 23,
     "metadata": {},
     "output_type": "execute_result"
    }
   ],
   "source": [
    "tokenizer.decode(rst['test_dataset'][0]['input_ids'])"
   ]
  },
  {
   "cell_type": "code",
   "execution_count": 27,
   "id": "2878ad83",
   "metadata": {},
   "outputs": [
    {
     "name": "stderr",
     "output_type": "stream",
     "text": [
      "100%|█████████████████████████████████████████████████████████████████████████| 2720/2720 [00:00<00:00, 38844.21it/s]\n"
     ]
    }
   ],
   "source": [
    "all_scores = {}\n",
    "for i in tqdm(range(len(rst['test_dataset']))):\n",
    "    idx = i\n",
    "    all_scores[idx] = softmax(rst['test_result'].predictions[i].tolist())"
   ]
  },
  {
   "cell_type": "code",
   "execution_count": 38,
   "id": "03d9d23e",
   "metadata": {},
   "outputs": [
    {
     "data": {
      "text/plain": [
       "{'translation': '昏暗的灯熄灭了又被重新点亮。',\n",
       " 'choices': ['渔灯灭复明', '残灯灭又然', '残灯暗复明', '残灯灭又明'],\n",
       " 'answer': 3}"
      ]
     },
     "execution_count": 38,
     "metadata": {},
     "output_type": "execute_result"
    }
   ],
   "source": [
    "valid_json[0]"
   ]
  },
  {
   "cell_type": "code",
   "execution_count": 40,
   "id": "128189be",
   "metadata": {},
   "outputs": [
    {
     "data": {
      "text/plain": [
       "3"
      ]
     },
     "execution_count": 40,
     "metadata": {},
     "output_type": "execute_result"
    }
   ],
   "source": []
  },
  {
   "cell_type": "code",
   "execution_count": 29,
   "id": "8f532177",
   "metadata": {},
   "outputs": [],
   "source": [
    "predict_valid_json = []\n",
    "for i in range(len(valid_json)):\n",
    "    choices = valid_json[i]['choices']\n",
    "    this_scores = all_scores[i]\n",
    "    this_dict = {k:valid_json[i][k] for k in valid_json[i]}\n",
    "    this_dict['scores'] = this_scores\n",
    "    this_dict['predict'] = np.argmax(this_scores)\n",
    "    this_dict['true'] = (this_dict['predict'] == this_dict['answer'])\n",
    "    predict_valid_json.append(this_dict)"
   ]
  },
  {
   "cell_type": "code",
   "execution_count": 31,
   "id": "27ff4430",
   "metadata": {},
   "outputs": [
    {
     "name": "stdout",
     "output_type": "stream",
     "text": [
      "0.8830882352941176\n"
     ]
    }
   ],
   "source": [
    "true_num = np.sum([int(e['true']) for e in predict_valid_json]) / len(predict_valid_json)\n",
    "print(true_num)"
   ]
  },
  {
   "cell_type": "code",
   "execution_count": 77,
   "id": "c7086387",
   "metadata": {},
   "outputs": [
    {
     "data": {
      "text/plain": [
       "{'translation': '请莫嫌弃潇湘一带人烟稀少。',\n",
       " 'choices': ['莫厌潇湘少人处', '飞时莫近潇湘浦', '莫厌皖山穷绝处', '潇湘云水人何处'],\n",
       " 'answer': 0,\n",
       " 'scores': [2.951438719346828,\n",
       "  2.0997304880167835,\n",
       "  1.9610124685063726,\n",
       "  2.1316768167366544],\n",
       " 'predict': 0,\n",
       " 'true': True}"
      ]
     },
     "execution_count": 77,
     "metadata": {},
     "output_type": "execute_result"
    }
   ],
   "source": [
    "predict_valid_json[-10]"
   ]
  },
  {
   "cell_type": "code",
   "execution_count": 64,
   "id": "0c79bd41",
   "metadata": {},
   "outputs": [
    {
     "data": {
      "text/plain": [
       "0.8253676470588235"
      ]
     },
     "execution_count": 64,
     "metadata": {},
     "output_type": "execute_result"
    }
   ],
   "source": [
    "true_num"
   ]
  },
  {
   "cell_type": "code",
   "execution_count": 4,
   "id": "290df577",
   "metadata": {},
   "outputs": [
    {
     "data": {
      "text/plain": [
       "(24797, 2)"
      ]
     },
     "execution_count": 4,
     "metadata": {},
     "output_type": "execute_result"
    }
   ],
   "source": [
    "rst.predictions.shape"
   ]
  },
  {
   "cell_type": "code",
   "execution_count": 5,
   "id": "7a6d264d",
   "metadata": {},
   "outputs": [
    {
     "data": {
      "text/plain": [
       "PredictionOutput(predictions=array([[ 0.03430561, -0.48208067],\n",
       "       [ 0.09326166, -0.5414783 ],\n",
       "       [ 0.33604988, -0.7945821 ],\n",
       "       ...,\n",
       "       [ 1.0819488 , -1.4716136 ],\n",
       "       [ 1.0384777 , -1.4446024 ],\n",
       "       [ 1.1046293 , -1.4878067 ]], dtype=float32), label_ids=array([1, 0, 0, ..., 0, 0, 1]), metrics={'test_loss': 0.4463875889778137, 'test_accuracy': 0.8132838606834412, 'test_runtime': 28.3801, 'test_samples_per_second': 873.745, 'test_steps_per_second': 17.477})"
      ]
     },
     "execution_count": 5,
     "metadata": {},
     "output_type": "execute_result"
    }
   ],
   "source": []
  },
  {
   "cell_type": "code",
   "execution_count": 80,
   "id": "ef239d04",
   "metadata": {},
   "outputs": [
    {
     "data": {
      "text/plain": [
       "0.30104448118724036"
      ]
     },
     "execution_count": 80,
     "metadata": {},
     "output_type": "execute_result"
    }
   ],
   "source": [
    "sum(rst['test_result'].label_ids)/rst['test_result'].label_ids.shape[0]"
   ]
  },
  {
   "cell_type": "code",
   "execution_count": 82,
   "id": "19309cd3",
   "metadata": {},
   "outputs": [
    {
     "data": {
      "text/plain": [
       "(24797,)"
      ]
     },
     "execution_count": 82,
     "metadata": {},
     "output_type": "execute_result"
    }
   ],
   "source": [
    "rst['test_result'].label_ids.shape"
   ]
  },
  {
   "cell_type": "code",
   "execution_count": 83,
   "id": "d29a6ca1",
   "metadata": {},
   "outputs": [
    {
     "data": {
      "text/plain": [
       "7465"
      ]
     },
     "execution_count": 83,
     "metadata": {},
     "output_type": "execute_result"
    }
   ],
   "source": [
    "rst['test_result'].label_ids.sum()"
   ]
  },
  {
   "cell_type": "code",
   "execution_count": null,
   "id": "30802b34",
   "metadata": {},
   "outputs": [],
   "source": []
  }
 ],
 "metadata": {
  "kernelspec": {
   "display_name": "Python 3 (ipykernel)",
   "language": "python",
   "name": "python3"
  },
  "language_info": {
   "codemirror_mode": {
    "name": "ipython",
    "version": 3
   },
   "file_extension": ".py",
   "mimetype": "text/x-python",
   "name": "python",
   "nbconvert_exporter": "python",
   "pygments_lexer": "ipython3",
   "version": "3.7.11"
  }
 },
 "nbformat": 4,
 "nbformat_minor": 5
}
