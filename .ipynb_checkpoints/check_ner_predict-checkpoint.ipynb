{
 "cells": [
  {
   "cell_type": "code",
   "execution_count": 1,
   "id": "74b0591e",
   "metadata": {},
   "outputs": [],
   "source": [
    "import torch\n",
    "from tqdm import tqdm\n",
    "from transformers import (\n",
    "    AutoConfig,\n",
    "    AutoModelForMultipleChoice,\n",
    "    AutoTokenizer,\n",
    "    HfArgumentParser,\n",
    "    Trainer,\n",
    "    TrainingArguments,\n",
    "    default_data_collator,\n",
    "    set_seed,\n",
    ")\n",
    "import numpy as np\n",
    "# np.argmax([1,2,3,4])"
   ]
  },
  {
   "cell_type": "code",
   "execution_count": 2,
   "id": "d89160b0",
   "metadata": {},
   "outputs": [
    {
     "data": {
      "text/plain": [
       "[0.2689414213699951, 0.7310585786300049]"
      ]
     },
     "execution_count": 2,
     "metadata": {},
     "output_type": "execute_result"
    }
   ],
   "source": [
    "def softmax(x, axis=None):\n",
    "    x = np.array(x)\n",
    "    x = x - x.max(axis=axis, keepdims=True)\n",
    "    y = np.exp(x)\n",
    "    rst = y / y.sum(axis=axis, keepdims=True)\n",
    "    return rst.tolist()\n",
    "softmax([1,2])"
   ]
  },
  {
   "cell_type": "code",
   "execution_count": 3,
   "id": "eec0b4d8",
   "metadata": {},
   "outputs": [],
   "source": [
    "tokenizer = AutoTokenizer.from_pretrained('ethanyt/guwenbert-base')"
   ]
  },
  {
   "cell_type": "code",
   "execution_count": 4,
   "id": "56c61069",
   "metadata": {},
   "outputs": [],
   "source": [
    "import json\n",
    "with open('data/valid.jsonl','r') as f:\n",
    "    valid_json = f.readlines()\n",
    "    valid_json = [json.loads(e) for e in valid_json]"
   ]
  },
  {
   "cell_type": "code",
   "execution_count": 5,
   "id": "ac380882",
   "metadata": {},
   "outputs": [],
   "source": [
    "import pickle\n",
    "with open('predict/ner/test_result.pkl','rb') as f:\n",
    "    rst = pickle.load(f)"
   ]
  },
  {
   "cell_type": "code",
   "execution_count": 7,
   "id": "c4783a58",
   "metadata": {},
   "outputs": [
    {
     "data": {
      "text/plain": [
       "(Dataset({\n",
       "     features: ['attention_mask', 'input_ids', 'labels', 'origin_idx', 'token_type_ids'],\n",
       "     num_rows: 10880\n",
       " }),\n",
       " dict_keys(['attention_mask', 'input_ids', 'labels', 'origin_idx', 'token_type_ids']))"
      ]
     },
     "execution_count": 7,
     "metadata": {},
     "output_type": "execute_result"
    }
   ],
   "source": [
    "rst['test_dataset'],rst['test_dataset'][0].keys()"
   ]
  },
  {
   "cell_type": "code",
   "execution_count": 8,
   "id": "bff4d693",
   "metadata": {},
   "outputs": [
    {
     "data": {
      "text/plain": [
       "'[CLS] 昏 暗 的 灯 熄 灭 了 又 被 重 新 点 亮 。 [SEP] 渔 灯 灭 复 明 [SEP]'"
      ]
     },
     "execution_count": 8,
     "metadata": {},
     "output_type": "execute_result"
    }
   ],
   "source": [
    "tokenizer.decode(rst['test_dataset'][0]['input_ids'])"
   ]
  },
  {
   "cell_type": "code",
   "execution_count": 28,
   "id": "4d989691",
   "metadata": {},
   "outputs": [
    {
     "data": {
      "text/plain": [
       "(10880, 97)"
      ]
     },
     "execution_count": 28,
     "metadata": {},
     "output_type": "execute_result"
    }
   ],
   "source": [
    "rst['test_result'].label_ids.shape"
   ]
  },
  {
   "cell_type": "code",
   "execution_count": 57,
   "id": "261d0664",
   "metadata": {},
   "outputs": [
    {
     "name": "stdout",
     "output_type": "stream",
     "text": [
      "[CLS] \t 0.036833055317401886 \t -100\n",
      "昏 \t 0.9407833814620972 \t -100\n",
      "暗 \t 0.9533089995384216 \t -100\n",
      "的 \t 0.728804349899292 \t -100\n",
      "灯 \t 0.15066255629062653 \t -100\n",
      "熄 \t 0.47069135308265686 \t -100\n",
      "灭 \t 0.47764626145362854 \t -100\n",
      "了 \t 0.7924788594245911 \t -100\n",
      "又 \t 0.9604582786560059 \t -100\n",
      "被 \t 0.8905993700027466 \t -100\n",
      "重 \t 0.9913784265518188 \t -100\n",
      "新 \t 0.9896129965782166 \t -100\n",
      "点 \t 0.9938084483146667 \t -100\n",
      "亮 \t 0.965327262878418 \t -100\n",
      "。 \t 0.0014975041849538684 \t -100\n",
      "[SEP] \t 0.0004231913771945983 \t -100\n",
      "残 \t 0.00033823924604803324 \t 1\n",
      "灯 \t 0.00035732300602830946 \t 1\n",
      "灭 \t 0.003181070787832141 \t 0\n",
      "又 \t 0.0022221505641937256 \t 0\n",
      "然 \t 0.0022334421519190073 \t 0\n",
      "[SEP] \t 0.0018983433255925775 \t -100\n"
     ]
    }
   ],
   "source": [
    "batch_idx = 1\n",
    "input_tokens = tokenizer.decode(rst['test_dataset'][batch_idx]['input_ids']).split(' ')\n",
    "predicts = softmax(rst['test_result'].predictions[batch_idx],axis=-1)\n",
    "labels = rst['test_result'].label_ids[batch_idx]\n",
    "for input_token in range(len(input_tokens)):\n",
    "    print(input_tokens[input_token], '\\t',predicts[input_token][1],'\\t',labels[input_token])"
   ]
  },
  {
   "cell_type": "code",
   "execution_count": 82,
   "id": "18f995e4",
   "metadata": {},
   "outputs": [
    {
     "data": {
      "text/plain": [
       "[16, 17, 18, 19, 20]"
      ]
     },
     "execution_count": 82,
     "metadata": {},
     "output_type": "execute_result"
    }
   ],
   "source": []
  },
  {
   "cell_type": "code",
   "execution_count": 89,
   "id": "c9e36eee",
   "metadata": {},
   "outputs": [
    {
     "data": {
      "text/plain": [
       "[0.00033823924604803324,\n",
       " 0.00035732300602830946,\n",
       " 0.003181070787832141,\n",
       " 0.0022221505641937256,\n",
       " 0.0022334421519190073]"
      ]
     },
     "execution_count": 89,
     "metadata": {},
     "output_type": "execute_result"
    }
   ],
   "source": []
  },
  {
   "cell_type": "code",
   "execution_count": 90,
   "id": "d2ab5c38",
   "metadata": {},
   "outputs": [
    {
     "name": "stderr",
     "output_type": "stream",
     "text": [
      "100%|████████████████████████████████████████████████████████████████████████| 10880/10880 [00:09<00:00, 1155.42it/s]\n"
     ]
    }
   ],
   "source": [
    "all_scores = {}\n",
    "for batch_idx in tqdm(range(len(rst['test_dataset']))):\n",
    "    origin_id = rst['test_dataset'][batch_idx]['origin_idx']\n",
    "    if origin_id not in all_scores:\n",
    "        all_scores[origin_id] = []\n",
    "    predicts = softmax(rst['test_result'].predictions[batch_idx],axis=-1)\n",
    "    labels = rst['test_result'].label_ids[batch_idx]\n",
    "    all_scores[origin_id].append(np.array(predicts)[np.where(labels!=-100)[0].tolist()][:,1].tolist())"
   ]
  },
  {
   "cell_type": "code",
   "execution_count": 62,
   "id": "03d9d23e",
   "metadata": {},
   "outputs": [
    {
     "data": {
      "text/plain": [
       "{'translation': '昏暗的灯熄灭了又被重新点亮。',\n",
       " 'choices': ['渔灯灭复明', '残灯灭又然', '残灯暗复明', '残灯灭又明'],\n",
       " 'answer': 3}"
      ]
     },
     "execution_count": 62,
     "metadata": {},
     "output_type": "execute_result"
    }
   ],
   "source": [
    "valid_json[0]"
   ]
  },
  {
   "cell_type": "code",
   "execution_count": 111,
   "id": "8f532177",
   "metadata": {},
   "outputs": [],
   "source": [
    "def multiple_list(l):\n",
    "    rst = 1\n",
    "    for e in l:\n",
    "        rst *= e\n",
    "    return rst\n",
    "predict_valid_json = []\n",
    "for i in range(len(valid_json)):\n",
    "    choices = valid_json[i]['choices']\n",
    "    this_scores = []\n",
    "    for choice_id in range(len(choices)):\n",
    "        choice_score = all_scores[i][choice_id]\n",
    "        choice_score = multiple_list(choice_score)\n",
    "#         choice_score = sum(choice_score)\n",
    "        this_scores.append(choice_score)\n",
    "    this_dict = {k:valid_json[i][k] for k in valid_json[i]}\n",
    "    this_dict['scores'] = this_scores\n",
    "    this_dict['predict'] = np.argmax(this_scores)\n",
    "    this_dict['true'] = (this_dict['predict'] == this_dict['answer'])\n",
    "    predict_valid_json.append(this_dict)"
   ]
  },
  {
   "cell_type": "code",
   "execution_count": 112,
   "id": "1ae4e13a",
   "metadata": {},
   "outputs": [
    {
     "data": {
      "text/plain": [
       "{'translation': '昏暗的灯熄灭了又被重新点亮。',\n",
       " 'choices': ['渔灯灭复明', '残灯灭又然', '残灯暗复明', '残灯灭又明'],\n",
       " 'answer': 3,\n",
       " 'scores': [2.202495009190283e-21,\n",
       "  1.9081235868075017e-15,\n",
       "  8.545825504510408e-15,\n",
       "  4.655045091572122e-11],\n",
       " 'predict': 3,\n",
       " 'true': True}"
      ]
     },
     "execution_count": 112,
     "metadata": {},
     "output_type": "execute_result"
    }
   ],
   "source": [
    "predict_valid_json[0]"
   ]
  },
  {
   "cell_type": "code",
   "execution_count": 113,
   "id": "27ff4430",
   "metadata": {},
   "outputs": [],
   "source": [
    "true_num = np.sum([int(e['true']) for e in predict_valid_json]) / len(predict_valid_json)"
   ]
  },
  {
   "cell_type": "code",
   "execution_count": 118,
   "id": "c7086387",
   "metadata": {},
   "outputs": [
    {
     "data": {
      "text/plain": [
       "{'translation': '温泉水中萃集了万物精华。',\n",
       " 'choices': ['精览万殊入', '万象入冥搜', '万象划然殊', '含灵万象入'],\n",
       " 'answer': 0,\n",
       " 'scores': [1.974271941932789e-24,\n",
       "  1.9784688151084597e-24,\n",
       "  2.1180516508889757e-24,\n",
       "  2.456173303756735e-21],\n",
       " 'predict': 3,\n",
       " 'true': False}"
      ]
     },
     "execution_count": 118,
     "metadata": {},
     "output_type": "execute_result"
    }
   ],
   "source": [
    "[e for e in predict_valid_json if not e['true']][-10]"
   ]
  },
  {
   "cell_type": "code",
   "execution_count": 116,
   "id": "0c79bd41",
   "metadata": {},
   "outputs": [
    {
     "data": {
      "text/plain": [
       "0.8264705882352941"
      ]
     },
     "execution_count": 116,
     "metadata": {},
     "output_type": "execute_result"
    }
   ],
   "source": [
    "true_num"
   ]
  },
  {
   "cell_type": "code",
   "execution_count": null,
   "id": "30802b34",
   "metadata": {},
   "outputs": [],
   "source": []
  }
 ],
 "metadata": {
  "kernelspec": {
   "display_name": "Python 3 (ipykernel)",
   "language": "python",
   "name": "python3"
  },
  "language_info": {
   "codemirror_mode": {
    "name": "ipython",
    "version": 3
   },
   "file_extension": ".py",
   "mimetype": "text/x-python",
   "name": "python",
   "nbconvert_exporter": "python",
   "pygments_lexer": "ipython3",
   "version": "3.7.11"
  }
 },
 "nbformat": 4,
 "nbformat_minor": 5
}
