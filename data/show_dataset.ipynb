{
 "cells": [
  {
   "cell_type": "code",
   "execution_count": 1,
   "metadata": {},
   "outputs": [],
   "source": [
    "import json"
   ]
  },
  {
   "cell_type": "code",
   "execution_count": 8,
   "metadata": {},
   "outputs": [
    {
     "data": {
      "text/plain": [
       "['show_dataset.ipynb',\n",
       " 'test_public.jsonl',\n",
       " 'README-ZH.md',\n",
       " '.ipynb_checkpoints',\n",
       " 'valid.jsonl',\n",
       " 'train.jsonl',\n",
       " 'CCPM.zip',\n",
       " 'eval.py',\n",
       " 'README-EN.md']"
      ]
     },
     "execution_count": 8,
     "metadata": {},
     "output_type": "execute_result"
    }
   ],
   "source": [
    "import os\n",
    "os.listdir()"
   ]
  },
  {
   "cell_type": "code",
   "execution_count": 28,
   "metadata": {},
   "outputs": [
    {
     "data": {
      "text/plain": [
       "{'translation': '诗人啊，你竟像在遥远的地方站立船头。',\n",
       " 'choices': ['行人初上木兰舟', '骚人遥驻木兰舟', '有人独上木兰舟', '行人迢递木兰舟'],\n",
       " 'answer': 1}"
      ]
     },
     "execution_count": 28,
     "metadata": {},
     "output_type": "execute_result"
    }
   ],
   "source": [
    "train_dataset[0]"
   ]
  },
  {
   "cell_type": "code",
   "execution_count": 11,
   "metadata": {},
   "outputs": [
    {
     "name": "stdout",
     "output_type": "stream",
     "text": [
      "7 行人初上木兰舟\n",
      "16 绿玉觜攒鸡脑破，玄金爪擘兔心开。\n",
      "5 清晨西北转\n",
      "12 篱落深村路，闾阎处士家。\n"
     ]
    }
   ],
   "source": [
    "with open('train.jsonl','r') as f:\n",
    "    train_dataset = f.readlines()\n",
    "train_dataset = [json.loads(e) for e in train_dataset]\n",
    "len_set = []\n",
    "for i in range(len(train_dataset)):\n",
    "    if len(train_dataset[i]['choices'][0]) not in len_set:\n",
    "        print(len(train_dataset[i]['choices'][0]), train_dataset[i]['choices'][0])\n",
    "        len_set.append(len(train_dataset[i]['choices'][0]))"
   ]
  },
  {
   "cell_type": "code",
   "execution_count": 21,
   "metadata": {},
   "outputs": [
    {
     "data": {
      "text/plain": [
       "(12, '篱落', '深村路', '闾阎', '处士家')"
      ]
     },
     "execution_count": 21,
     "metadata": {},
     "output_type": "execute_result"
    }
   ],
   "source": [
    "c = '篱落深村路，闾阎处士家。'\n",
    "len(c),c[:2],c[2:5],c[6:8],c[8:11]"
   ]
  },
  {
   "cell_type": "code",
   "execution_count": 27,
   "metadata": {},
   "outputs": [
    {
     "data": {
      "text/plain": [
       "(16, '绿玉', '觜攒', '鸡脑破', '玄金', '爪擘', '兔心开')"
      ]
     },
     "execution_count": 27,
     "metadata": {},
     "output_type": "execute_result"
    }
   ],
   "source": [
    "c = '绿玉觜攒鸡脑破，玄金爪擘兔心开。'\n",
    "len(c),c[:2],c[2:4],c[4:7],c[8:10],c[10:12],c[12:15]"
   ]
  },
  {
   "cell_type": "code",
   "execution_count": null,
   "metadata": {},
   "outputs": [],
   "source": [
    "c = '行人初上木兰舟'\n",
    "len(c),c[:2],c[2:4],c[4:]"
   ]
  },
  {
   "cell_type": "code",
   "execution_count": 24,
   "metadata": {},
   "outputs": [
    {
     "data": {
      "text/plain": [
       "(7, '行人', '初上', '木兰舟')"
      ]
     },
     "execution_count": 24,
     "metadata": {},
     "output_type": "execute_result"
    }
   ],
   "source": [
    "c = '行人初上木兰舟'\n",
    "len(c),c[:2],c[2:4],c[4:]"
   ]
  },
  {
   "cell_type": "code",
   "execution_count": 4,
   "metadata": {},
   "outputs": [],
   "source": [
    "def argmax(scores):\n",
    "    max_score = max(scores)\n",
    "    return [i for i, s in enumerate(scores) if s == max_score][0]\n",
    "def getAns(translation, choices):\n",
    "    scores = [0] * 4\n",
    "    for i, choice in enumerate(choices):\n",
    "        for c in choice:\n",
    "            if c in translation:\n",
    "                scores[i] += 1\n",
    "    return argmax(scores)"
   ]
  },
  {
   "cell_type": "code",
   "execution_count": 7,
   "metadata": {},
   "outputs": [],
   "source": [
    "acc_num = 0\n",
    "for d in train_dataset:\n",
    "    myAns = getAns(d['translation'],d['choices'])\n",
    "    if myAns == d['answer']:\n",
    "        acc_num += 1"
   ]
  },
  {
   "cell_type": "code",
   "execution_count": 8,
   "metadata": {},
   "outputs": [
    {
     "data": {
      "text/plain": [
       "0.7370281935898614"
      ]
     },
     "execution_count": 8,
     "metadata": {},
     "output_type": "execute_result"
    }
   ],
   "source": [
    "acc_num / len(train_dataset)"
   ]
  },
  {
   "cell_type": "code",
   "execution_count": null,
   "metadata": {},
   "outputs": [],
   "source": []
  }
 ],
 "metadata": {
  "interpreter": {
   "hash": "1dcb2fb1788b62238a01e264fd433fd117085efd43a33b64fc00a0c53c7366b8"
  },
  "kernelspec": {
   "display_name": "Python 3.7.11 64-bit ('ccpm': conda)",
   "language": "python",
   "name": "python3"
  },
  "language_info": {
   "codemirror_mode": {
    "name": "ipython",
    "version": 3
   },
   "file_extension": ".py",
   "mimetype": "text/x-python",
   "name": "python",
   "nbconvert_exporter": "python",
   "pygments_lexer": "ipython3",
   "version": "3.7.11"
  },
  "orig_nbformat": 4
 },
 "nbformat": 4,
 "nbformat_minor": 2
}
